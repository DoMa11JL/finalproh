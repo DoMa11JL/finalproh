{
 "cells": [
  {
   "cell_type": "code",
   "execution_count": null,
   "id": "ed4ff3cf",
   "metadata": {},
   "outputs": [],
   "source": [
    "pip install ultralytics"
   ]
  },
  {
   "cell_type": "code",
   "execution_count": null,
   "id": "8bccdee0",
   "metadata": {},
   "outputs": [],
   "source": [
    "import os\n",
    "os. environ['KMP_DUPLICATE_LIB_OK']='True'\n",
    "\n",
    "from ultralytics import YOLO\n",
    "\n",
    "# Load a pretrained YOLOv8n model\n",
    "model= YOLO('yolov8m.pt')\n",
    "\n",
    "# Run inference on the source\n",
    "results = model.track(source=r\"C:\\Users\\adham\\OneDrive\\Desktop\\yolo - Made with Clipchamp.mp4\", show=True, tracker=\"bytetrack.yaml\")\n",
    "results"
   ]
  }
 ],
 "metadata": {
  "kernelspec": {
   "display_name": "Python 3 (ipykernel)",
   "language": "python",
   "name": "python3"
  },
  "language_info": {
   "codemirror_mode": {
    "name": "ipython",
    "version": 3
   },
   "file_extension": ".py",
   "mimetype": "text/x-python",
   "name": "python",
   "nbconvert_exporter": "python",
   "pygments_lexer": "ipython3",
   "version": "3.11.5"
  }
 },
 "nbformat": 4,
 "nbformat_minor": 5
}
